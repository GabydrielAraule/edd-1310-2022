{
  "nbformat": 4,
  "nbformat_minor": 0,
  "metadata": {
    "colab": {
      "name": "Listas_LigadasADT_1310.ipynb",
      "provenance": [],
      "collapsed_sections": [],
      "authorship_tag": "ABX9TyPiXTfQ+WJJgFQYGCCPCzBS",
      "include_colab_link": true
    },
    "kernelspec": {
      "name": "python3",
      "display_name": "Python 3"
    },
    "language_info": {
      "name": "python"
    }
  },
  "cells": [
    {
      "cell_type": "markdown",
      "metadata": {
        "id": "view-in-github",
        "colab_type": "text"
      },
      "source": [
        "<a href=\"https://colab.research.google.com/github/GabydrielAraule/edd-1310-2022/blob/main/Listas_LigadasADT_1310.ipynb\" target=\"_parent\"><img src=\"https://colab.research.google.com/assets/colab-badge.svg\" alt=\"Open In Colab\"/></a>"
      ]
    },
    {
      "cell_type": "markdown",
      "metadata": {
        "id": "Lk5sj13R0nUT"
      },
      "source": [
        "\n",
        "\n",
        "```\n",
        "# Ejercicios con la clase nodo\n",
        "```\n",
        "- Crear un Nodo 10\n",
        "    - imprimir el valor del nodo\n",
        "- Crear dos nodos 10,20\n",
        "    - imprimir el valor del primero\n",
        "    - imrpimir el valor del segundo\n",
        "    - transversal\n",
        "- lo mismo pero con 4 nodos 10,20,30,40\n",
        "    - imrpimir el valor el primero\n",
        "    - imprimir el valor del ultimo\n",
        "    - transversal\n",
        "    - insertar el nodo 25, despues del nodo 20 y antes del nodo 30"
      ]
    },
    {
      "cell_type": "code",
      "metadata": {
        "id": "EeNDS5Fy0bPD"
      },
      "source": [
        "class Nodo:\n",
        "    def __init__(self, value, siguiente = None):\n",
        "        self.data = value\n",
        "        self.next = siguiente\n",
        "        "
      ],
      "execution_count": 1,
      "outputs": []
    },
    {
      "cell_type": "code",
      "metadata": {
        "colab": {
          "base_uri": "https://localhost:8080/"
        },
        "id": "pWAEdweM1tVH",
        "outputId": "eb650c04-ec6b-435e-bc94-df9853990e80"
      },
      "source": [
        "head = Nodo(10)\n",
        "print(head.data)"
      ],
      "execution_count": 2,
      "outputs": [
        {
          "output_type": "stream",
          "name": "stdout",
          "text": [
            "10\n"
          ]
        }
      ]
    },
    {
      "cell_type": "code",
      "metadata": {
        "colab": {
          "base_uri": "https://localhost:8080/"
        },
        "id": "RSBHzATM2enV",
        "outputId": "aa46d0c0-ce08-4bf3-fc11-2060fc0b5057"
      },
      "source": [
        "head = Nodo(10)\n",
        "head.next = Nodo(20)\n",
        "print(f\"Primero={head.data}\")\n",
        "print(f\"Segundo={head.next.data}\")\n",
        "\n",
        "\n",
        "#Lo mismo pero ahorrando codigp\n",
        "head = Nodo(10, Nodo(20))\n",
        "print(f\"Primero={head.data}\")\n",
        "print(f\"Segundo={head.next.data}\")\n",
        "\n",
        "#transversal\n",
        "curr_node = head \n",
        "while curr_node != None:\n",
        "    print(f\"| {curr_node.data} | --> \" , end=\"\")\n",
        "    curr_node = curr_node.next\n",
        "print(\"\")"
      ],
      "execution_count": 3,
      "outputs": [
        {
          "output_type": "stream",
          "name": "stdout",
          "text": [
            "Primero=10\n",
            "Segundo=20\n",
            "Primero=10\n",
            "Segundo=20\n",
            "| 10 | --> | 20 | --> \n"
          ]
        }
      ]
    },
    {
      "cell_type": "code",
      "metadata": {
        "colab": {
          "base_uri": "https://localhost:8080/"
        },
        "id": "tbT5l-Jz67hh",
        "outputId": "eb84fd76-a49f-466f-a224-f9393282f58b"
      },
      "source": [
        "head = Nodo(10, Nodo(20, Nodo(30,Nodo(40))))\n",
        "#Nodo(valuor, siguiente)\n",
        "curr_node = head \n",
        "while curr_node != None:\n",
        "    print(f\"| {curr_node.data} | --> \" , end=\"\")\n",
        "    curr_node = curr_node.next\n",
        "print(\"\")\n",
        "#IMprimir el primero\n",
        "print(head.data)\n",
        "\n",
        "#Imprimir el ultimo\n",
        "curr_node = head\n",
        "while curr_node.next != None:\n",
        "    curr_node= curr_node.next\n",
        "print(curr_node.data)\n",
        "\n",
        "#Insertar el nodo 25\n",
        "curr_node = head\n",
        "while curr_node.data != 20:\n",
        "    curr_node = curr_node.next\n",
        "print(curr_node.data)\n",
        "\n",
        "#Crear el nodo 25\n",
        "curr_node.next = Nodo(25, curr_node.next)\n",
        "print(\"Despues ed incertar el 5\")\n",
        "\n",
        "#transversal\n",
        "curr_node = head \n",
        "while curr_node != None:\n",
        "    print(f\"| {curr_node.data} | --> \" , end=\"\")\n",
        "    curr_node = curr_node.next\n",
        "print(\"\")"
      ],
      "execution_count": 5,
      "outputs": [
        {
          "output_type": "stream",
          "name": "stdout",
          "text": [
            "| 10 | --> | 20 | --> | 30 | --> | 40 | --> \n",
            "10\n",
            "40\n",
            "20\n",
            "Despues ed incertar el 5\n",
            "| 10 | --> | 20 | --> | 25 | --> | 30 | --> | 40 | --> \n"
          ]
        }
      ]
    },
    {
      "cell_type": "code",
      "metadata": {
        "colab": {
          "base_uri": "https://localhost:8080/"
        },
        "id": "NyRikiFibENh",
        "outputId": "9771287e-f08f-4218-f92c-b37a4b7e8b98"
      },
      "source": [
        "a=10\n",
        "b=20\n",
        "c = 15\n",
        "c= c +a\n",
        "#c?\n",
        "c = (c + a)*b\n",
        "print(c)"
      ],
      "execution_count": 6,
      "outputs": [
        {
          "output_type": "stream",
          "name": "stdout",
          "text": [
            "700\n"
          ]
        }
      ]
    },
    {
      "cell_type": "code",
      "metadata": {
        "id": "dlWRVprkc5vG"
      },
      "source": [
        "class Nodo:\n",
        "    def __init__(self, value, siguiente = None):\n",
        "        self.data = value\n",
        "        self.next = siguiente\n",
        "class LinkedList:\n",
        "    def __init__(self):\n",
        "        self.head = None\n",
        "    \n",
        "    def is_empty(self):\n",
        "        return self.head ==None\n",
        "\n",
        "    def get_tail(self):\n",
        "        if self.is_empty():\n",
        "            return None\n",
        "        else:\n",
        "            curr_node=self.head\n",
        "            while curr_node.next != None:\n",
        "                curr_node = curr_node.next\n",
        "            return curr_node\n",
        "        \n",
        "    def append(self, value):\n",
        "        if self.head == None:\n",
        "            self.head = Nodo(value)\n",
        "        else:\n",
        "            curr_node = self.head\n",
        "            while curr_node.next != None:\n",
        "                curr_node = curr_node.next\n",
        "            curr_node.next = Nodo(value)\n",
        "\n",
        "    def transversal(self):\n",
        "        curr_node = self.head\n",
        "        while curr_node != None:\n",
        "            print(f\"| {curr_node.data} | -->\", end=\"\")\n",
        "            curr_node = curr_node.next\n",
        "        print(\"\")\n",
        "\n",
        "    def remove(self, value):\n",
        "        if self.head== None:\n",
        "            print(\"Lista vacia no se puede remover nada\")\n",
        "        else:\n",
        "            curr_node = self.head\n",
        "            aux = None\n",
        "            while curr_node.data != value:\n",
        "                aux = curr_node\n",
        "                curr_node = curr_node.next\n",
        "\n",
        "            if curr_node != None:\n",
        "                aux.next = curr_node.next\n",
        "                curr_node = None\n",
        "\n",
        "    def preppend(self, value):\n",
        "        if self.head == None:\n",
        "            print(\"VAcio no se puede hacer preprend\")\n",
        "        else: \n",
        "            aux = self.head\n",
        "            self.head = Nodo( value , aux)\n",
        "\n"
      ],
      "execution_count": 36,
      "outputs": []
    },
    {
      "cell_type": "code",
      "metadata": {
        "colab": {
          "base_uri": "https://localhost:8080/"
        },
        "id": "K4Mxx7Wzfej-",
        "outputId": "3dfe88dc-1f65-42ad-b628-4f4164445291"
      },
      "source": [
        "lista = LinkedList()\n",
        "if lista.is_empty():\n",
        "    print(\"La lista esta vacia\")\n",
        "else:\n",
        "    print(\"La lista no esta vacia\")\n",
        "\n",
        "lista.append(10)\n",
        "lista.append(20)\n",
        "lista.append(30)\n",
        "lista.append(40)\n",
        "lista.append(50)\n",
        "\n",
        "nodo = lista.get_tail()\n",
        "if nodo != None:\n",
        "    print(nodo.data)\n",
        "else:\n",
        "    print(\"Lista esta vacia\")\n",
        "\n",
        "lista.transversal()\n",
        "lista.remove(30)\n",
        "lista.transversal()\n",
        "lista.preppend(5)\n",
        "print(\"despues del preppend\")\n",
        "lista.transversal()"
      ],
      "execution_count": 37,
      "outputs": [
        {
          "output_type": "stream",
          "name": "stdout",
          "text": [
            "La lista esta vacia\n",
            "50\n",
            "| 10 | -->| 20 | -->| 30 | -->| 40 | -->| 50 | -->\n",
            "| 10 | -->| 20 | -->| 40 | -->| 50 | -->\n",
            "despues del preppend\n",
            "| 5 | -->| 10 | -->| 20 | -->| 40 | -->| 50 | -->\n"
          ]
        }
      ]
    }
  ]
}