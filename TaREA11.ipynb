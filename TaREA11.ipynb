{
  "nbformat": 4,
  "nbformat_minor": 0,
  "metadata": {
    "colab": {
      "name": "TaREA11.ipynb",
      "provenance": [],
      "collapsed_sections": [],
      "authorship_tag": "ABX9TyMXC/vHfleMhHwSl9Yuuisu",
      "include_colab_link": true
    },
    "kernelspec": {
      "name": "python3",
      "display_name": "Python 3"
    },
    "language_info": {
      "name": "python"
    }
  },
  "cells": [
    {
      "cell_type": "markdown",
      "metadata": {
        "id": "view-in-github",
        "colab_type": "text"
      },
      "source": [
        "<a href=\"https://colab.research.google.com/github/GabydrielAraule/edd-1310-2022/blob/main/TaREA11.ipynb\" target=\"_parent\"><img src=\"https://colab.research.google.com/assets/colab-badge.svg\" alt=\"Open In Colab\"/></a>"
      ]
    },
    {
      "cell_type": "code",
      "metadata": {
        "id": "EO2mKK6ENLUz"
      },
      "source": [
        "class NodoBinario:\n",
        "    def __init__( self , value , left= None , right=None ):\n",
        "        self.data = value\n",
        "        self.left = left\n",
        "        self.right = right\n",
        "\n",
        "class NodoTernario:\n",
        "    def __init__( self , value , left= None , center=None , right=None ):\n",
        "        self.data = value\n",
        "        self.left = left\n",
        "        self.center = center\n",
        "        self.right = right"
      ],
      "execution_count": null,
      "outputs": []
    },
    {
      "cell_type": "code",
      "metadata": {
        "colab": {
          "base_uri": "https://localhost:8080/"
        },
        "id": "91N5xdQTNQ4v",
        "outputId": "d4052e49-212f-4ddc-b231-74ce000dab87"
      },
      "source": [
        "arbol1= NodoBinario(\"R\", NodoBinario(\"C\"), NodoBinario(\"H\"))\n",
        "print(\"el valor del arbol1 derecho es:\", arbol1.right.data)\n",
        "print(\"el valor del arbol1 izquierdo es:\", arbol1.left.data)\n",
        "print(\"el valor del arbol1 raiz es:\", arbol1.data)\n",
        "\n",
        "\n",
        "arbol2 = NodoTernario(4,NodoTernario(3,NodoTernario(5, left=NodoTernario(2)),NodoTernario(5),NodoTernario(2)), None ,NodoTernario(5))\n",
        "print(\"el valor del arbol2 derecho es:\",arbol2.left.right.data)\n",
        "print(\"el valor del arbol2 raiz es:\",arbol2.data)\n",
        "print(\"el valor del arbol2 raiz es:\",arbol2.left.center.data)\n",
        "print(\"----- sin usar la palabra print ----\")\n",
        "ejemplo = arbol2.left.left.left.data\n",
        "print(ejemplo)\n",
        "print(\"---- otra forma ----\")\n",
        "aux = arbol2\n",
        "while( aux.left != None):\n",
        "    aux = aux.left\n",
        "print( aux.data )"
      ],
      "execution_count": null,
      "outputs": [
        {
          "output_type": "stream",
          "name": "stdout",
          "text": [
            "el valor del arbol1 derecho es: H\n",
            "el valor del arbol1 izquierdo es: C\n",
            "el valor del arbol1 raiz es: R\n",
            "el valor del arbol2 derecho es: 2\n",
            "el valor del arbol2 raiz es: 4\n",
            "el valor del arbol2 raiz es: 5\n",
            "----- sin usar la palabra print ----\n",
            "2\n",
            "---- otra forma ----\n",
            "2\n"
          ]
        }
      ]
    },
    {
      "cell_type": "code",
      "metadata": {
        "id": "xsHvp3D-yNvv"
      },
      "source": [
        "class BinaryNode:\n",
        "    def __init__(self, value, left=None, rigth=None ):\n",
        "        self.data = value\n",
        "        self.left = left\n",
        "        self.rigth = rigth\n",
        "\n",
        "class BinarySearchTree:\n",
        "    def __init__(self):\n",
        "        self.root = None\n",
        "\n",
        "    def insert (self, value):\n",
        "        if self.root == None:#self.__root is None\n",
        "            self.root = BinaryNode(value)\n",
        "        else:\n",
        "            self.__insert_nodo(self.root, value)\n",
        "\n",
        "    def __insert_nodo(self,nodo,value):\n",
        "        if nodo.data == value:\n",
        "            pass\n",
        "        elif value < nodo.data:\n",
        "            if nodo.left == None:\n",
        "                nodo.left = BinaryNode(value)\n",
        "            else:\n",
        "                self.__insert_nodo(nodo.left, value)\n",
        "        else:\n",
        "            if nodo.rigth == None:\n",
        "                nodo.rigth = BinaryNode(value)\n",
        "            else:\n",
        "                self.__insert_nodo(nodo.rigth, value)\n",
        "\n",
        "    def transversal( self , formato = \"posorden\"):\n",
        "         if formato == \"posorden\":\n",
        "             self.recorrido_pos( self.root )\n",
        "         elif formato == \"preorden\":\n",
        "             self.recorrido_pre(self.root )\n",
        "         else: #inorden\n",
        "             self.recorrido_in( self.root )\n",
        "         print()    \n",
        "\n",
        "    def recorrido_pos( self , nodo):\n",
        "          if nodo != None:\n",
        "              self.recorrido_pos( nodo.left )\n",
        "              self.recorrido_pos( nodo.rigth )  \n",
        "              print( str(nodo.data) , end=\" , \") \n",
        "\n",
        "    def recorrido_pre( self , nodo ):\n",
        "        if nodo!=None:\n",
        "            print( str(nodo.data), end=\" , \" )\n",
        "            self.recorrido_pre( nodo.left )\n",
        "            self.recorrido_pre( nodo.rigth )\n",
        "\n",
        "    def recorrido_in( self , nodo ):\n",
        "        if nodo != None:\n",
        "            self.recorrido_in( nodo.left )\n",
        "            print( str(nodo.data) , end=\" , \" )\n",
        "            self.recorrido_in( nodo.rigth )   \n",
        "\n",
        "    def  search( self , value ):\n",
        "        if self.root == None:\n",
        "            print(\"el arbol esta vacio\")\n",
        "            return None\n",
        "        else:\n",
        "            self.__search( self.root , value )  \n",
        "\n",
        "    def __search( self , nodo , value ):\n",
        "        if nodo.data == None:\n",
        "            print(\"el dato no existe en el árbol\")\n",
        "            return None \n",
        "        elif nodo.data == value: \n",
        "            print(\"encontrado\")\n",
        "            return nodo\n",
        "        elif value < nodo.data:\n",
        "            return self.__buscar( nodo.left , value )\n",
        "        else:\n",
        "            return self.__buscar( nodo.rigth , value )\n",
        "        \n",
        "    \n",
        "    def remove(self, value):\n",
        "        if self.root == None:\n",
        "            print(\"no hay nada que eliminar\")\n",
        "        else:\n",
        "            self.__remove(None, None, self.root, value)\n",
        "\n",
        "\n",
        "    def __remove(self,padre_hi, padre_hd, actual, value):\n",
        "        if actual == None:\n",
        "            print(\"Caso base\")\n",
        "            return None\n",
        "        elif actual.data == value: #Caso base\n",
        "            print(\"Encontrado\",actual.data)\n",
        "            #Caso1: Hoja\n",
        "            if actual.left == None and actual.rigth == None:\n",
        "                if padre_hi != None:\n",
        "                    padre_hi.left = None\n",
        "                else:\n",
        "                    padre_hd.rigth = None\n",
        "            #Caso2: Con un hijo\n",
        "            if (actual.left != None and actual.rigth == None) or (actual.left == None and actual.rigth != None):\n",
        "                print(\"Es un nodo con un hijo\", actual.data)\n",
        "                if actual.left != None:\n",
        "                    actual.data = actual.left.data\n",
        "                    actual.left = None\n",
        "                else:\n",
        "                    actual.data = actual.rigth.data\n",
        "                    actual.rigth = None\n",
        "            #Caso3: con dos hijos\n",
        "            if (actual.left == None and actual.rigth != None) or (actual.left != None and actual.rigth == None):\n",
        "                print(\"Es un nodo con ambos hijos\", actual.data)\n",
        "                if actual.rigth != None:\n",
        "                    actual.data = actual.rigth.data\n",
        "                    actual.rigth = None\n",
        "                else:\n",
        "                    actual.data = actual.left.data\n",
        "                    actual.left = None\n",
        "        \n",
        "\n",
        "            #return actual\n",
        "        elif value < actual.data:\n",
        "            print(\"Buscar a la izquierda\")\n",
        "            self.__remove(actual, None, actual.left, value )\n",
        "        else:\n",
        "            print(\"Buscar a la derecha\")\n",
        "            self.__remove(None, actual, actual.rigth, value )\n",
        "\n",
        "\n",
        "\n",
        "\n"
      ],
      "execution_count": null,
      "outputs": []
    },
    {
      "cell_type": "code",
      "metadata": {
        "colab": {
          "base_uri": "https://localhost:8080/"
        },
        "id": "YymnXA3XM7Yi",
        "outputId": "20b7a1bc-aa4d-44fc-f840-556152b301bf"
      },
      "source": [
        "arb1 = BinarySearchTree()\n",
        "arb1.insert(60)\n",
        "arb1.insert(37)\n",
        "arb1.insert(36)\n",
        "arb1.insert(35)\n",
        "arb1.insert(30)\n",
        "arb1.insert(15)\n",
        "arb1.insert(40)\n",
        "arb1.transversal(\"posorden\")\n",
        "arb1.transversal(\"preorden\")\n",
        "arb1.transversal(\"inorden\")\n",
        "arb1.remove(15)\n",
        "arb1.transversal(\"inorden\")"
      ],
      "execution_count": null,
      "outputs": [
        {
          "output_type": "stream",
          "name": "stdout",
          "text": [
            "15 , 30 , 35 , 36 , 40 , 37 , 60 , \n",
            "60 , 37 , 36 , 35 , 30 , 15 , 40 , \n",
            "15 , 30 , 35 , 36 , 37 , 40 , 60 , \n",
            "Buscar a la izquierda\n",
            "Buscar a la izquierda\n",
            "Buscar a la izquierda\n",
            "Buscar a la izquierda\n",
            "Buscar a la izquierda\n",
            "Encontrado 15\n",
            "30 , 35 , 36 , 37 , 40 , 60 , \n"
          ]
        }
      ]
    }
  ]
}