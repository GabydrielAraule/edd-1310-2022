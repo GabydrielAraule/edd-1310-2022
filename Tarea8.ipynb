{
  "nbformat": 4,
  "nbformat_minor": 0,
  "metadata": {
    "colab": {
      "name": "Tarea8.ipynb",
      "provenance": [],
      "collapsed_sections": [],
      "authorship_tag": "ABX9TyOqIj6qShmirI17kjH8qCeO",
      "include_colab_link": true
    },
    "kernelspec": {
      "name": "python3",
      "display_name": "Python 3"
    },
    "language_info": {
      "name": "python"
    }
  },
  "cells": [
    {
      "cell_type": "markdown",
      "metadata": {
        "id": "view-in-github",
        "colab_type": "text"
      },
      "source": [
        "<a href=\"https://colab.research.google.com/github/GabydrielAraule/edd-1310-2022/blob/main/Tarea8.ipynb\" target=\"_parent\"><img src=\"https://colab.research.google.com/assets/colab-badge.svg\" alt=\"Open In Colab\"/></a>"
      ]
    },
    {
      "cell_type": "code",
      "metadata": {
        "id": "EnkKkz-7GA3f"
      },
      "source": [
        "class NodoDoble:\n",
        "    def __init__(self, value, siguiente=None, previo= None):\n",
        "        self.data=value\n",
        "        self.next = siguiente\n",
        "        self.prev= previo"
      ],
      "execution_count": 9,
      "outputs": []
    },
    {
      "cell_type": "code",
      "metadata": {
        "id": "KOeMsgy6FhIY"
      },
      "source": [
        "class DoubleLinkedList:\n",
        "    def __init__( self  ):\n",
        "        self.head = None\n",
        "        self.tail = None\n",
        "        self.size = 0\n",
        "\n",
        "    def get_size( self ):\n",
        "        return self.size\n",
        "\n",
        "    def is_empty( self ): # true si la lista está vacía\n",
        "        return self.size == 0\n",
        "\n",
        "    def append( self , value ):\n",
        "        if self.is_empty():\n",
        "            self.head = NodoDoble( value)\n",
        "            self.tail = self.head\n",
        "        else:\n",
        "            self.tail.next = NodoDoble(value , None , self.tail )\n",
        "            self.tail = self.tail.next\n",
        "        self.size += 1\n",
        "\n",
        "    def transversal( self ):\n",
        "        curr_node = self.head\n",
        "        while curr_node != None :\n",
        "            print(f\"| {curr_node.data} | --> \" , end=\"\")\n",
        "            curr_node = curr_node.next\n",
        "        print(\"\")\n",
        "\n",
        "    def remove_from_head( self , value  ):\n",
        "        curr_node = self.head\n",
        "        while curr_node.data != value:\n",
        "            curr_node = curr_node.next\n",
        "\n",
        "        if curr_node.data == value:\n",
        "            print(\"Encontrado\",curr_node.data)\n",
        "            curr_node.prev.next = curr_node.next\n",
        "            curr_node.next.prev = curr_node.prev\n",
        "            print(\"\", curr_node.prev.data)\n",
        "        self.size -= 1\n",
        "    \n",
        "    def reverse_transversal(self): \n",
        "        curr_node = self.tail\n",
        "        while curr_node != None:\n",
        "            print(f\"| {curr_node.data} | --> \",end=\"\")\n",
        "            curr_node=curr_node.prev\n",
        "        print(\"\")\n",
        "    \n",
        "    def remove_from_tail( self, value):\n",
        "        curr_node = self.tail\n",
        "        while curr_node.data != value:\n",
        "            curr_node = curr_node.prev\n",
        "\n",
        "        if curr_node.data == value:\n",
        "            print(\"Encontrado: \", curr_node.data)\n",
        "            curr_node.prev.next = curr_node.prev\n",
        "            curr_node.prev.next = curr_node.next\n",
        "            print(\"\", curr_node.next.data)\n",
        "        self.size -=1\n",
        "\n",
        "    def find_from_tail(self,value):\n",
        "        aux=1\n",
        "        dato= \"El valor que ingreso no se encuentra dentro de la lista\"\n",
        "        posicion= None\n",
        "        curr_node=self.tail\n",
        "        if curr_node == value:\n",
        "            dato = value\n",
        "            posicion= aux\n",
        "        else:\n",
        "            while curr_node !=None:\n",
        "                if curr_node.data == value:\n",
        "                    posicion= aux\n",
        "                    dato= curr_node.data\n",
        "                aux+=1\n",
        "                curr_node=curr_node.prev\n",
        "        return print(f\"Dato: {dato} encontrado en la posicion {posicion}\")\n",
        "\n",
        "    def find_from_head(self,value): \n",
        "        aux=1\n",
        "        dato= \"EEl valor que ingreso no se encuentra dentro de la lista\"\n",
        "        posicion=None\n",
        "        curr_node=self.head\n",
        "        if curr_node==value:\n",
        "            dato = value\n",
        "            posicion= aux\n",
        "        else:\n",
        "            while curr_node != None:\n",
        "                if curr_node.data == value:\n",
        "                    posicion= aux\n",
        "                    dato=curr_node.data\n",
        "                aux+=1\n",
        "                curr_node=curr_node.next\n",
        "        return print(f\"Dato: {dato} encontrado en la posicion: {posicion}  \")"
      ],
      "execution_count": 12,
      "outputs": []
    },
    {
      "cell_type": "code",
      "metadata": {
        "colab": {
          "base_uri": "https://localhost:8080/"
        },
        "id": "YbszJ2D1FnE6",
        "outputId": "0d35a390-4c0d-4203-a21b-a42113cbf71e"
      },
      "source": [
        "ldl = DoubleLinkedList()\n",
        "ldl.append(10)\n",
        "ldl.append(20)\n",
        "ldl.append(30)\n",
        "ldl.append(40)\n",
        "\n",
        "ldl.transversal()\n",
        "ldl.reverse_transversal()\n",
        "print(f\" Esta vacia? {ldl.is_empty()}\")\n",
        "\n",
        "ldl.remove_from_head(30)\n",
        "ldl.transversal()\n",
        "\n",
        "ldl.remove_from_tail(20)\n",
        "\n",
        "\n",
        "\n",
        "ldl.transversal()\n",
        "\n",
        "ldl.find_from_tail(40)\n",
        "ldl.find_from_head(40)"
      ],
      "execution_count": 13,
      "outputs": [
        {
          "output_type": "stream",
          "name": "stdout",
          "text": [
            "| 10 | --> | 20 | --> | 30 | --> | 40 | --> \n",
            "| 40 | --> | 30 | --> | 20 | --> | 10 | --> \n",
            " Esta vacia? False\n",
            "Encontrado 30\n",
            " 20\n",
            "| 10 | --> | 20 | --> | 40 | --> \n",
            "Encontrado:  20\n",
            " 40\n",
            "| 10 | --> | 40 | --> \n",
            "Dato: 40 encontrado en la posicion 1\n",
            "Dato: 40 encontrado en la posicion: 2  \n"
          ]
        }
      ]
    },
    {
      "cell_type": "code",
      "metadata": {
        "id": "ppj65e_OYL15"
      },
      "source": [
        "            curr_node=self.head\n",
        "            while curr_node.next != None:\n",
        "                curr_node = curr_node.next\n",
        "                curr_node.next = None                \n",
        "\n",
        "            return curr_node.next"
      ],
      "execution_count": null,
      "outputs": []
    }
  ]
}